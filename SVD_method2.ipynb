{
 "cells": [
  {
   "cell_type": "code",
   "execution_count": 1,
   "id": "0633cc90",
   "metadata": {},
   "outputs": [],
   "source": [
    "import sys\n",
    "import os\n",
    "import surprise\n",
    "import papermill as pm\n",
    "import scrapbook as sb\n",
    "import pandas as pd\n",
    "import random"
   ]
  },
  {
   "cell_type": "code",
   "execution_count": 2,
   "id": "48a99915",
   "metadata": {},
   "outputs": [],
   "source": [
    "from surprise.model_selection import train_test_split\n",
    "from surprise import accuracy, Dataset, SVD\n",
    "from surprise.model_selection import GridSearchCV\n",
    "from recommenders.utils.timer import Timer\n",
    "from recommenders.datasets import movielens\n",
    "from recommenders.datasets.python_splitters import python_random_split\n",
    "from recommenders.evaluation.python_evaluation import (rmse, mae, rsquared, exp_var, map_at_k, ndcg_at_k, precision_at_k, \n",
    "                                                     recall_at_k, get_top_k_items)\n",
    "from recommenders.models.surprise.surprise_utils import predict, compute_ranking_predictions"
   ]
  },
  {
   "cell_type": "code",
   "execution_count": 3,
   "id": "1f94fe91",
   "metadata": {},
   "outputs": [
    {
     "name": "stdout",
     "output_type": "stream",
     "text": [
      "System version: 3.9.13 (main, Aug 25 2022, 23:26:10) \n",
      "[GCC 11.2.0]\n",
      "Surprise version: 1.1.3\n"
     ]
    }
   ],
   "source": [
    "print(\"System version: {}\".format(sys.version))\n",
    "print(\"Surprise version: {}\".format(surprise.__version__))"
   ]
  },
  {
   "cell_type": "code",
   "execution_count": 4,
   "id": "0bab41b4",
   "metadata": {},
   "outputs": [],
   "source": [
    "# Select MovieLens data size: 100k, Other avaialble sizes are 1m, 10m, or 20m\n",
    "MOVIELENS_DATA_SIZE = '100k'"
   ]
  },
  {
   "cell_type": "code",
   "execution_count": 5,
   "id": "a13efd2e",
   "metadata": {},
   "outputs": [],
   "source": [
    "data = Dataset.load_builtin(\"ml-100k\")\n",
    "data_orig = data"
   ]
  },
  {
   "cell_type": "code",
   "execution_count": 6,
   "id": "22e9f8bb",
   "metadata": {},
   "outputs": [
    {
     "data": {
      "text/plain": [
       "<surprise.dataset.DatasetAutoFolds at 0x7fcc4085fbb0>"
      ]
     },
     "execution_count": 6,
     "metadata": {},
     "output_type": "execute_result"
    }
   ],
   "source": [
    "data_orig"
   ]
  },
  {
   "cell_type": "code",
   "execution_count": 7,
   "id": "f3596cc7",
   "metadata": {},
   "outputs": [],
   "source": [
    "raw_ratings = data.raw_ratings\n",
    "random.shuffle(raw_ratings)\n",
    "\n",
    "# train = 90% of the data, test = 10% of the data\n",
    "threshold = int(0.9 * len(raw_ratings))\n",
    "train_raw_ratings = raw_ratings[:threshold]\n",
    "test_raw_ratings = raw_ratings[threshold:]\n",
    "\n",
    "data.raw_rating = train_raw_ratings"
   ]
  },
  {
   "cell_type": "code",
   "execution_count": 8,
   "id": "e8bc2fb9",
   "metadata": {},
   "outputs": [],
   "source": [
    "# train, test = python_random_split(data, 0.75)\n",
    "# trainset, testset = train_test_split(data, test_size=0.25)"
   ]
  },
  {
   "cell_type": "code",
   "execution_count": 9,
   "id": "f8422a78",
   "metadata": {},
   "outputs": [],
   "source": [
    "# trainset = surprise.Dataset.load_from_df(train, reader=surprise.Reader('ml-100k')).build_full_trainset()\n",
    "\n",
    "# print(trainset)"
   ]
  },
  {
   "cell_type": "code",
   "execution_count": 10,
   "id": "4e863381",
   "metadata": {},
   "outputs": [
    {
     "name": "stdout",
     "output_type": "stream",
     "text": [
      "best RMSE score 0.964084292503233\n",
      "best parameters  {'n_epochs': 10, 'lr_all': 0.005, 'reg_all': 0.4}\n",
      "Took 32.96648699099751 seconds for training.\n"
     ]
    },
    {
     "data": {
      "text/plain": [
       "<surprise.prediction_algorithms.matrix_factorization.SVD at 0x7fcc864fa370>"
      ]
     },
     "execution_count": 10,
     "metadata": {},
     "output_type": "execute_result"
    }
   ],
   "source": [
    "# svd = SVD()\n",
    "\n",
    "param_grid = {\"n_epochs\": [5, 10], \"lr_all\": [0.002, 0.005], \"reg_all\": [0.4, 0.6]}\n",
    "gs = GridSearchCV(SVD, param_grid, measures=[\"rmse\", \"mae\"], cv=3)\n",
    "\n",
    "with Timer() as train_time:\n",
    "    gs.fit(data)\n",
    "#     svd.fit(train_set)\n",
    "\n",
    "# best RMSE score\n",
    "print('best RMSE score', gs.best_score[\"rmse\"])\n",
    "\n",
    "# combination of parameters that gave the best RMSE score\n",
    "print('best parameters ', gs.best_params[\"rmse\"])\n",
    "\n",
    "print(\"Took {} seconds for training.\".format(train_time.interval))\n",
    "\n",
    "# use the best model,  retrain on the whole set train\n",
    "svd_best= gs.best_estimator[\"rmse\"]\n",
    "trainset = data.build_full_trainset()\n",
    "svd_best.fit(trainset)"
   ]
  },
  {
   "cell_type": "code",
   "execution_count": 12,
   "id": "cefba2b6",
   "metadata": {},
   "outputs": [
    {
     "name": "stdout",
     "output_type": "stream",
     "text": [
      "Accuracy on the trainset:\n",
      "RMSE: 0.9410\n"
     ]
    },
    {
     "data": {
      "text/plain": [
       "0.9409658895633729"
      ]
     },
     "execution_count": 12,
     "metadata": {},
     "output_type": "execute_result"
    }
   ],
   "source": [
    "# now test on the trainset                                                 \n",
    "testset = data.construct_testset(train_raw_ratings)                     \n",
    "predictions_train = svd_best.test(testset)                                           \n",
    "print('Accuracy on the trainset:')                                         \n",
    "accuracy.rmse(predictions_train) \n",
    "# testset"
   ]
  },
  {
   "cell_type": "code",
   "execution_count": 15,
   "id": "3313a583",
   "metadata": {},
   "outputs": [
    {
     "name": "stdout",
     "output_type": "stream",
     "text": [
      "Unbiased accuracy on testset, RMSE: 0.9423\n",
      "MSE: 0.8880\n"
     ]
    },
    {
     "data": {
      "text/plain": [
       "0.8880168555611991"
      ]
     },
     "execution_count": 15,
     "metadata": {},
     "output_type": "execute_result"
    }
   ],
   "source": [
    "# Compute unbiased accuracy on testset\n",
    "testset = data.construct_testset(test_raw_ratings)  # testset is now the set B\n",
    "predictions_test = svd_best.test(testset)\n",
    "print(\"Unbiased accuracy on testset,\", end=\" \")\n",
    "accuracy.rmse(predictions_test)\n",
    "accuracy.mse(predictions_test)\n",
    "# testset"
   ]
  },
  {
   "cell_type": "code",
   "execution_count": null,
   "id": "058a2010",
   "metadata": {},
   "outputs": [],
   "source": []
  }
 ],
 "metadata": {
  "kernelspec": {
   "display_name": "Python 3 (ipykernel)",
   "language": "python",
   "name": "python3"
  },
  "language_info": {
   "codemirror_mode": {
    "name": "ipython",
    "version": 3
   },
   "file_extension": ".py",
   "mimetype": "text/x-python",
   "name": "python",
   "nbconvert_exporter": "python",
   "pygments_lexer": "ipython3",
   "version": "3.9.13"
  }
 },
 "nbformat": 4,
 "nbformat_minor": 5
}
